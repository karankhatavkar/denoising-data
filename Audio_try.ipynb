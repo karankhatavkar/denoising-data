{
 "cells": [
  {
   "cell_type": "markdown",
   "metadata": {},
   "source": [
    "TAKING INPUT OF .WAV File "
   ]
  },
  {
   "cell_type": "code",
   "execution_count": 1,
   "metadata": {},
   "outputs": [],
   "source": [
    "import wave\n",
    "import numpy\n",
    "\n",
    "# Read file to get buffer                                                                                               \n",
    "ifile = wave.open(r\"D:\\De-noising\\doc\\No-name-kids-song.wav\")\n",
    "samples = ifile.getnframes()\n",
    "audio = ifile.readframes(samples)\n",
    "\n",
    "# Convert buffer to float32 using NumPy                                                                                 \n",
    "audio_as_np_int16 = numpy.frombuffer(audio, dtype=numpy.int16)\n",
    "audio_as_np_float32 = audio_as_np_int16.astype(numpy.float32)\n",
    "\n",
    "# Normalise float32 array so that values are between -1.0 and +1.0                                                      \n",
    "max_int16 = 2**15\n",
    "audio_normalised = audio_as_np_float32 / max_int16"
   ]
  },
  {
   "cell_type": "markdown",
   "metadata": {},
   "source": [
    "ADDING NOISE TO THE DATA"
   ]
  },
  {
   "cell_type": "code",
   "execution_count": 2,
   "metadata": {},
   "outputs": [
    {
     "ename": "AttributeError",
     "evalue": "module 'numpy' has no attribute 'plot'",
     "output_type": "error",
     "traceback": [
      "\u001b[1;31m---------------------------------------------------------------------------\u001b[0m",
      "\u001b[1;31mAttributeError\u001b[0m                            Traceback (most recent call last)",
      "\u001b[1;32m<ipython-input-2-22605dc0850b>\u001b[0m in \u001b[0;36m<module>\u001b[1;34m\u001b[0m\n\u001b[1;32m----> 1\u001b[1;33m \u001b[0mnumpy\u001b[0m\u001b[1;33m.\u001b[0m\u001b[0mplot\u001b[0m\u001b[1;33m(\u001b[0m\u001b[0maudio_normalised\u001b[0m \u001b[1;33m)\u001b[0m\u001b[1;33m\u001b[0m\u001b[1;33m\u001b[0m\u001b[0m\n\u001b[0m\u001b[0;32m      2\u001b[0m \u001b[1;31m#audio_normalised = audio_normalised + 0.00000001*numpy.random.randn(samples*2)\u001b[0m\u001b[1;33m\u001b[0m\u001b[1;33m\u001b[0m\u001b[1;33m\u001b[0m\u001b[0m\n\u001b[0;32m      3\u001b[0m \u001b[1;31m#wavio.write(r\"D:\\De-noising\\doc\\Audio_try_OUT.wav\", audio_normalised, 22050, sampwidth=4)\u001b[0m\u001b[1;33m\u001b[0m\u001b[1;33m\u001b[0m\u001b[1;33m\u001b[0m\u001b[0m\n\u001b[0;32m      4\u001b[0m \u001b[1;31m#playsound(r'D:\\De-noising\\doc\\Audio_try_OUT.wav')\u001b[0m\u001b[1;33m\u001b[0m\u001b[1;33m\u001b[0m\u001b[1;33m\u001b[0m\u001b[0m\n",
      "\u001b[1;32mc:\\users\\karan\\appdata\\local\\programs\\python\\python38-32\\lib\\site-packages\\numpy\\__init__.py\u001b[0m in \u001b[0;36m__getattr__\u001b[1;34m(attr)\u001b[0m\n\u001b[0;32m    212\u001b[0m                 \u001b[1;32mreturn\u001b[0m \u001b[0mTester\u001b[0m\u001b[1;33m\u001b[0m\u001b[1;33m\u001b[0m\u001b[0m\n\u001b[0;32m    213\u001b[0m             \u001b[1;32melse\u001b[0m\u001b[1;33m:\u001b[0m\u001b[1;33m\u001b[0m\u001b[1;33m\u001b[0m\u001b[0m\n\u001b[1;32m--> 214\u001b[1;33m                 raise AttributeError(\"module {!r} has no attribute \"\n\u001b[0m\u001b[0;32m    215\u001b[0m                                      \"{!r}\".format(__name__, attr))\n\u001b[0;32m    216\u001b[0m \u001b[1;33m\u001b[0m\u001b[0m\n",
      "\u001b[1;31mAttributeError\u001b[0m: module 'numpy' has no attribute 'plot'"
     ]
    }
   ],
   "source": [
    "#numpy.plot(audio_normalised )\n",
    "audio_normalised = audio_normalised + 0.00000001*numpy.random.randn(samples*2)\n",
    "wavio.write(r\"D:\\De-noising\\doc\\Audio_try_OUT.wav\", audio_normalised, 22050, sampwidth=4)\n",
    "playsound(r'D:\\De-noising\\doc\\Audio_try_OUT.wav')\n"
   ]
  },
  {
   "cell_type": "markdown",
   "metadata": {},
   "source": [
    "TAKING FFT OF THE DATA"
   ]
  },
  {
   "cell_type": "code",
   "execution_count": null,
   "metadata": {},
   "outputs": [],
   "source": [
    "n = len(t)\n",
    "fhat = np.fft.fft(f,n)                    # Taking FFT of f\n",
    "PSD = fhat * np.conj(fhat) / n            # calculating PSD\n",
    "freq = (1/(dt*n)) * np.arange(n)\n",
    "L = np.arange(1,np.floor(n/2),dtype='int')\n"
   ]
  }
 ],
 "metadata": {
  "kernelspec": {
   "display_name": "Python 3",
   "language": "python",
   "name": "python3"
  },
  "language_info": {
   "codemirror_mode": {
    "name": "ipython",
    "version": 3
   },
   "file_extension": ".py",
   "mimetype": "text/x-python",
   "name": "python",
   "nbconvert_exporter": "python",
   "pygments_lexer": "ipython3",
   "version": "3.8.5"
  }
 },
 "nbformat": 4,
 "nbformat_minor": 4
}
