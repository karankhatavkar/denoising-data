{
 "cells": [
  {
   "cell_type": "markdown",
   "metadata": {},
   "source": [
    "Creating a simple signal with two frequency "
   ]
  },
  {
   "cell_type": "code",
   "execution_count": 1,
   "metadata": {},
   "outputs": [],
   "source": [
    "import numpy as np\n",
    "import matplotlib.pyplot as plt\n",
    "import wavio\n",
    "from playsound import playsound\n",
    "plt.rcParams['figure.figsize']=[22,5]\n",
    "plt.rcParams.update({'font.size' : 18})\n",
    "\n",
    "dt=0.001\n",
    "t=np.arange(0,100,dt)\n",
    "f=np.sin(2*np.pi*100*t) + np.sin(2*np.pi*120*t)     #Sum of 2 Frequencies\n",
    "f_clean=f\n",
    "\n",
    "\n",
    "wavio.write(r\"D:\\De-noising\\program\\SIGNAL.wav\", f, 22050, sampwidth=4)\n",
    "playsound(r'D:\\De-noising\\program\\SIGNAL.wav')\n"
   ]
  },
  {
   "cell_type": "markdown",
   "metadata": {},
   "source": [
    "Adding noise to the signal "
   ]
  },
  {
   "cell_type": "code",
   "execution_count": 2,
   "metadata": {},
   "outputs": [],
   "source": [
    "f=f+2.5*np.random.randn(len(t))\n",
    "\n",
    "wavio.write(r\"D:\\De-noising\\program\\noisy_sig.wav\", f, 22050, sampwidth=4)\n",
    "playsound(r\"D:\\De-noising\\program\\noisy_sig.wav\")\n"
   ]
  },
  {
   "cell_type": "markdown",
   "metadata": {},
   "source": [
    "Taking FFT and calculating PSD"
   ]
  },
  {
   "cell_type": "code",
   "execution_count": 3,
   "metadata": {},
   "outputs": [],
   "source": [
    "n = len(t)\n",
    "fhat = np.fft.fft(f,n)                    # Taking FFT of f\n",
    "PSD = fhat * np.conj(fhat) / n            # calculating PSD\n",
    "freq = (1/(dt*n)) * np.arange(n)\n",
    "L = np.arange(1,np.floor(n/2),dtype='int')\n",
    "\n"
   ]
  },
  {
   "cell_type": "markdown",
   "metadata": {},
   "source": [
    "Filtering"
   ]
  },
  {
   "cell_type": "code",
   "execution_count": 4,
   "metadata": {},
   "outputs": [],
   "source": [
    "\n",
    "indices = PSD > 100                # Find all freqs with large powers\n",
    "PSDclean = PSD * indices           # Zero out all other\n",
    "fhat = indices * fhat              # zero out small Fourier coefs. in Y\n",
    "\n"
   ]
  },
  {
   "cell_type": "markdown",
   "metadata": {},
   "source": [
    "Inverse FFT for Filtered time signal"
   ]
  },
  {
   "cell_type": "code",
   "execution_count": 5,
   "metadata": {},
   "outputs": [
    {
     "name": "stderr",
     "output_type": "stream",
     "text": [
      "c:\\users\\karan\\appdata\\local\\programs\\python\\python38-32\\lib\\site-packages\\wavio.py:202: ComplexWarning: Casting complex values to real discards the imaginary part\n",
      "  vmin = float(vmin)\n",
      "c:\\users\\karan\\appdata\\local\\programs\\python\\python38-32\\lib\\site-packages\\wavio.py:203: ComplexWarning: Casting complex values to real discards the imaginary part\n",
      "  vmax = float(vmax)\n",
      "c:\\users\\karan\\appdata\\local\\programs\\python\\python38-32\\lib\\site-packages\\wavio.py:204: ComplexWarning: Casting complex values to real discards the imaginary part\n",
      "  data = (float(outmax - outmin) * (data - vmin) /\n"
     ]
    }
   ],
   "source": [
    "ifft_noisy=np.fft.ifft(fhat)\n",
    "\n",
    "wavio.write(r\"D:\\De-noising\\program\\clean_sig.wav\", ifft_noisy, 22050, sampwidth=4)\n",
    "playsound(r\"D:\\De-noising\\program\\clean_sig.wav\")\n"
   ]
  },
  {
   "cell_type": "code",
   "execution_count": null,
   "metadata": {},
   "outputs": [],
   "source": []
  }
 ],
 "metadata": {
  "kernelspec": {
   "display_name": "Python 3",
   "language": "python",
   "name": "python3"
  },
  "language_info": {
   "codemirror_mode": {
    "name": "ipython",
    "version": 3
   },
   "file_extension": ".py",
   "mimetype": "text/x-python",
   "name": "python",
   "nbconvert_exporter": "python",
   "pygments_lexer": "ipython3",
   "version": "3.8.5"
  }
 },
 "nbformat": 4,
 "nbformat_minor": 4
}
